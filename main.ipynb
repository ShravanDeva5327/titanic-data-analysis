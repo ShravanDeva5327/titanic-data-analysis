{
 "cells": [
  {
   "cell_type": "markdown",
   "metadata": {},
   "source": [
    "# Analysis of Titanic Dataset"
   ]
  },
  {
   "cell_type": "code",
   "execution_count": 1,
   "metadata": {},
   "outputs": [],
   "source": [
    "# importing libraries\n",
    "import numpy as np\n",
    "import matplotlib.pyplot as plt\n",
    "import pandas as pd\n",
    "import seaborn as sns\n",
    "from scipy.stats import chi2_contingency\n",
    "import warnings\n",
    "warnings.filterwarnings(\"ignore\", category=FutureWarning)\n",
    "\n",
    "# importing dataset\n",
    "df = pd.read_csv('titanic.csv')"
   ]
  },
  {
   "cell_type": "markdown",
   "metadata": {},
   "source": [
    "### Data Cleaning"
   ]
  },
  {
   "cell_type": "code",
   "execution_count": 2,
   "metadata": {},
   "outputs": [
    {
     "name": "stdout",
     "output_type": "stream",
     "text": [
      "(1309, 14)\n"
     ]
    },
    {
     "data": {
      "text/html": [
       "<div>\n",
       "<style scoped>\n",
       "    .dataframe tbody tr th:only-of-type {\n",
       "        vertical-align: middle;\n",
       "    }\n",
       "\n",
       "    .dataframe tbody tr th {\n",
       "        vertical-align: top;\n",
       "    }\n",
       "\n",
       "    .dataframe thead th {\n",
       "        text-align: right;\n",
       "    }\n",
       "</style>\n",
       "<table border=\"1\" class=\"dataframe\">\n",
       "  <thead>\n",
       "    <tr style=\"text-align: right;\">\n",
       "      <th></th>\n",
       "      <th>pclass</th>\n",
       "      <th>survived</th>\n",
       "      <th>name</th>\n",
       "      <th>sex</th>\n",
       "      <th>age</th>\n",
       "      <th>sibsp</th>\n",
       "      <th>parch</th>\n",
       "      <th>ticket</th>\n",
       "      <th>fare</th>\n",
       "      <th>cabin</th>\n",
       "      <th>embarked</th>\n",
       "      <th>boat</th>\n",
       "      <th>body</th>\n",
       "      <th>home.dest</th>\n",
       "    </tr>\n",
       "  </thead>\n",
       "  <tbody>\n",
       "    <tr>\n",
       "      <th>0</th>\n",
       "      <td>1</td>\n",
       "      <td>1</td>\n",
       "      <td>Allen, Miss. Elisabeth Walton</td>\n",
       "      <td>female</td>\n",
       "      <td>29.0000</td>\n",
       "      <td>0</td>\n",
       "      <td>0</td>\n",
       "      <td>24160</td>\n",
       "      <td>211.3375</td>\n",
       "      <td>B5</td>\n",
       "      <td>S</td>\n",
       "      <td>2</td>\n",
       "      <td>NaN</td>\n",
       "      <td>St Louis, MO</td>\n",
       "    </tr>\n",
       "    <tr>\n",
       "      <th>1</th>\n",
       "      <td>1</td>\n",
       "      <td>1</td>\n",
       "      <td>Allison, Master. Hudson Trevor</td>\n",
       "      <td>male</td>\n",
       "      <td>0.9167</td>\n",
       "      <td>1</td>\n",
       "      <td>2</td>\n",
       "      <td>113781</td>\n",
       "      <td>151.5500</td>\n",
       "      <td>C22 C26</td>\n",
       "      <td>S</td>\n",
       "      <td>11</td>\n",
       "      <td>NaN</td>\n",
       "      <td>Montreal, PQ / Chesterville, ON</td>\n",
       "    </tr>\n",
       "    <tr>\n",
       "      <th>2</th>\n",
       "      <td>1</td>\n",
       "      <td>0</td>\n",
       "      <td>Allison, Miss. Helen Loraine</td>\n",
       "      <td>female</td>\n",
       "      <td>2.0000</td>\n",
       "      <td>1</td>\n",
       "      <td>2</td>\n",
       "      <td>113781</td>\n",
       "      <td>151.5500</td>\n",
       "      <td>C22 C26</td>\n",
       "      <td>S</td>\n",
       "      <td>NaN</td>\n",
       "      <td>NaN</td>\n",
       "      <td>Montreal, PQ / Chesterville, ON</td>\n",
       "    </tr>\n",
       "    <tr>\n",
       "      <th>3</th>\n",
       "      <td>1</td>\n",
       "      <td>0</td>\n",
       "      <td>Allison, Mr. Hudson Joshua Creighton</td>\n",
       "      <td>male</td>\n",
       "      <td>30.0000</td>\n",
       "      <td>1</td>\n",
       "      <td>2</td>\n",
       "      <td>113781</td>\n",
       "      <td>151.5500</td>\n",
       "      <td>C22 C26</td>\n",
       "      <td>S</td>\n",
       "      <td>NaN</td>\n",
       "      <td>135.0</td>\n",
       "      <td>Montreal, PQ / Chesterville, ON</td>\n",
       "    </tr>\n",
       "    <tr>\n",
       "      <th>4</th>\n",
       "      <td>1</td>\n",
       "      <td>0</td>\n",
       "      <td>Allison, Mrs. Hudson J C (Bessie Waldo Daniels)</td>\n",
       "      <td>female</td>\n",
       "      <td>25.0000</td>\n",
       "      <td>1</td>\n",
       "      <td>2</td>\n",
       "      <td>113781</td>\n",
       "      <td>151.5500</td>\n",
       "      <td>C22 C26</td>\n",
       "      <td>S</td>\n",
       "      <td>NaN</td>\n",
       "      <td>NaN</td>\n",
       "      <td>Montreal, PQ / Chesterville, ON</td>\n",
       "    </tr>\n",
       "  </tbody>\n",
       "</table>\n",
       "</div>"
      ],
      "text/plain": [
       "   pclass  survived                                             name     sex  \\\n",
       "0       1         1                    Allen, Miss. Elisabeth Walton  female   \n",
       "1       1         1                   Allison, Master. Hudson Trevor    male   \n",
       "2       1         0                     Allison, Miss. Helen Loraine  female   \n",
       "3       1         0             Allison, Mr. Hudson Joshua Creighton    male   \n",
       "4       1         0  Allison, Mrs. Hudson J C (Bessie Waldo Daniels)  female   \n",
       "\n",
       "       age  sibsp  parch  ticket      fare    cabin embarked boat   body  \\\n",
       "0  29.0000      0      0   24160  211.3375       B5        S    2    NaN   \n",
       "1   0.9167      1      2  113781  151.5500  C22 C26        S   11    NaN   \n",
       "2   2.0000      1      2  113781  151.5500  C22 C26        S  NaN    NaN   \n",
       "3  30.0000      1      2  113781  151.5500  C22 C26        S  NaN  135.0   \n",
       "4  25.0000      1      2  113781  151.5500  C22 C26        S  NaN    NaN   \n",
       "\n",
       "                         home.dest  \n",
       "0                     St Louis, MO  \n",
       "1  Montreal, PQ / Chesterville, ON  \n",
       "2  Montreal, PQ / Chesterville, ON  \n",
       "3  Montreal, PQ / Chesterville, ON  \n",
       "4  Montreal, PQ / Chesterville, ON  "
      ]
     },
     "execution_count": 2,
     "metadata": {},
     "output_type": "execute_result"
    }
   ],
   "source": [
    "# data format:\n",
    "\n",
    "# pclass    -- Passenger Class (1= 1st, 2= 2nd, 3= 3rd)\n",
    "# survived  -- Survival (0 = No, 1 = Yes)\n",
    "# name      -- Name\n",
    "# sex       -- Sex (male/female)\n",
    "# age       -- Age\n",
    "# sibsp     -- Number of Siblings/Spouse Aboard\n",
    "# parch     -- Number of Parents/Children Aboard\n",
    "# ticket    -- Ticket No.\n",
    "# fare      -- Fare\n",
    "# cabin     -- Cabin\n",
    "# embarked  -- Port of Embarkation (C = Cherbourg, Q = Queenstown, S = Southampton)\n",
    "# boat      -- Life Boat (if survived)\n",
    "# body      -- Body Number (if not survived and the body is recovered)\n",
    "# home.dest -- Home Destination\n",
    "\n",
    "print(df.shape)\n",
    "df.head()"
   ]
  },
  {
   "cell_type": "code",
   "execution_count": 3,
   "metadata": {},
   "outputs": [
    {
     "name": "stdout",
     "output_type": "stream",
     "text": [
      "(1309, 7)\n"
     ]
    },
    {
     "data": {
      "text/html": [
       "<div>\n",
       "<style scoped>\n",
       "    .dataframe tbody tr th:only-of-type {\n",
       "        vertical-align: middle;\n",
       "    }\n",
       "\n",
       "    .dataframe tbody tr th {\n",
       "        vertical-align: top;\n",
       "    }\n",
       "\n",
       "    .dataframe thead th {\n",
       "        text-align: right;\n",
       "    }\n",
       "</style>\n",
       "<table border=\"1\" class=\"dataframe\">\n",
       "  <thead>\n",
       "    <tr style=\"text-align: right;\">\n",
       "      <th></th>\n",
       "      <th>pclass</th>\n",
       "      <th>survived</th>\n",
       "      <th>sex</th>\n",
       "      <th>age</th>\n",
       "      <th>sibsp</th>\n",
       "      <th>parch</th>\n",
       "      <th>fare</th>\n",
       "    </tr>\n",
       "  </thead>\n",
       "  <tbody>\n",
       "    <tr>\n",
       "      <th>0</th>\n",
       "      <td>1</td>\n",
       "      <td>1</td>\n",
       "      <td>female</td>\n",
       "      <td>29.0000</td>\n",
       "      <td>0</td>\n",
       "      <td>0</td>\n",
       "      <td>211.3375</td>\n",
       "    </tr>\n",
       "    <tr>\n",
       "      <th>1</th>\n",
       "      <td>1</td>\n",
       "      <td>1</td>\n",
       "      <td>male</td>\n",
       "      <td>0.9167</td>\n",
       "      <td>1</td>\n",
       "      <td>2</td>\n",
       "      <td>151.5500</td>\n",
       "    </tr>\n",
       "    <tr>\n",
       "      <th>2</th>\n",
       "      <td>1</td>\n",
       "      <td>0</td>\n",
       "      <td>female</td>\n",
       "      <td>2.0000</td>\n",
       "      <td>1</td>\n",
       "      <td>2</td>\n",
       "      <td>151.5500</td>\n",
       "    </tr>\n",
       "    <tr>\n",
       "      <th>3</th>\n",
       "      <td>1</td>\n",
       "      <td>0</td>\n",
       "      <td>male</td>\n",
       "      <td>30.0000</td>\n",
       "      <td>1</td>\n",
       "      <td>2</td>\n",
       "      <td>151.5500</td>\n",
       "    </tr>\n",
       "    <tr>\n",
       "      <th>4</th>\n",
       "      <td>1</td>\n",
       "      <td>0</td>\n",
       "      <td>female</td>\n",
       "      <td>25.0000</td>\n",
       "      <td>1</td>\n",
       "      <td>2</td>\n",
       "      <td>151.5500</td>\n",
       "    </tr>\n",
       "  </tbody>\n",
       "</table>\n",
       "</div>"
      ],
      "text/plain": [
       "   pclass  survived     sex      age  sibsp  parch      fare\n",
       "0       1         1  female  29.0000      0      0  211.3375\n",
       "1       1         1    male   0.9167      1      2  151.5500\n",
       "2       1         0  female   2.0000      1      2  151.5500\n",
       "3       1         0    male  30.0000      1      2  151.5500\n",
       "4       1         0  female  25.0000      1      2  151.5500"
      ]
     },
     "execution_count": 3,
     "metadata": {},
     "output_type": "execute_result"
    }
   ],
   "source": [
    "# removing irrelevant columns for the analysis\n",
    "df = df.drop(['name', 'ticket', 'cabin', 'embarked', 'boat', 'body', 'home.dest'], axis=1)\n",
    "\n",
    "print(df.shape)\n",
    "df.head()"
   ]
  },
  {
   "cell_type": "code",
   "execution_count": 4,
   "metadata": {},
   "outputs": [
    {
     "data": {
      "text/plain": [
       "pclass        0\n",
       "survived      0\n",
       "sex           0\n",
       "age         263\n",
       "sibsp         0\n",
       "parch         0\n",
       "fare          1\n",
       "dtype: int64"
      ]
     },
     "execution_count": 4,
     "metadata": {},
     "output_type": "execute_result"
    }
   ],
   "source": [
    "# checking for missing values\n",
    "df.isnull().sum()"
   ]
  },
  {
   "cell_type": "code",
   "execution_count": 5,
   "metadata": {},
   "outputs": [
    {
     "data": {
      "text/plain": [
       "pclass      0\n",
       "survived    0\n",
       "sex         0\n",
       "age         0\n",
       "sibsp       0\n",
       "parch       0\n",
       "fare        0\n",
       "dtype: int64"
      ]
     },
     "execution_count": 5,
     "metadata": {},
     "output_type": "execute_result"
    }
   ],
   "source": [
    "# filling nan values in age column with the median age of the respective sex\n",
    "male_median_age = df[df['sex'] == 'male']['age'].median()\n",
    "female_median_age = df[df['sex'] == 'female']['age'].median()\n",
    "\n",
    "df.loc[(df['sex'] == 'male') & (df['age'].isnull()), 'age'] = male_median_age\n",
    "df.loc[(df['sex'] == 'female') & (df['age'].isnull()), 'age'] = female_median_age\n",
    "\n",
    "# filling nan values in fare column with the mean fare of the respective class\n",
    "df.loc[df['fare'].isnull(), 'fare'] = df.groupby('pclass')['fare'].transform('mean')\n",
    "\n",
    "df.isnull().sum()"
   ]
  },
  {
   "cell_type": "code",
   "execution_count": 6,
   "metadata": {},
   "outputs": [
    {
     "name": "stdout",
     "output_type": "stream",
     "text": [
      "209\n"
     ]
    },
    {
     "data": {
      "text/plain": [
       "(1100, 7)"
      ]
     },
     "execution_count": 6,
     "metadata": {},
     "output_type": "execute_result"
    }
   ],
   "source": [
    "# checking for duplicates and removing them\n",
    "print(df.duplicated().sum())\n",
    "df = df.drop_duplicates()\n",
    "\n",
    "df.shape"
   ]
  },
  {
   "cell_type": "code",
   "execution_count": 7,
   "metadata": {},
   "outputs": [
    {
     "data": {
      "image/png": "[encoded data removed]",
      "text/plain": [
       "<Figure size 1200x500 with 2 Axes>"
      ]
     },
     "metadata": {},
     "output_type": "display_data"
    }
   ],
   "source": [
    "# checking for outliers using boxplots\n",
    "plt.figure(figsize=(12, 5))\n",
    "\n",
    "plt.subplot(1, 2, 1)\n",
    "sns.boxplot(x=df['fare'])\n",
    "plt.title('Fare Distribution with Outliers')\n",
    "\n",
    "plt.subplot(1, 2, 2)\n",
    "sns.boxplot(x=df['age'])\n",
    "plt.title('Age Distribution with Outliers')\n",
    "\n",
    "plt.tight_layout()\n",
    "plt.show()"
   ]
  },
  {
   "cell_type": "code",
   "execution_count": 8,
   "metadata": {},
   "outputs": [],
   "source": [
    "# from the boxplots, we can see that there are outliers in both fare and age columns\n",
    "# but I am not going to remove them because they are not errors in the data, and also in this case, \n",
    "# extreme values(say highly wealty passengers, or very old passengers) can have meaningful correlations with survival"
   ]
  },
  {
   "cell_type": "code",
   "execution_count": 9,
   "metadata": {},
   "outputs": [
    {
     "name": "stdout",
     "output_type": "stream",
     "text": [
      "['female' 'male']\n"
     ]
    }
   ],
   "source": [
    "# checking for mispelled values in sex column\n",
    "print(df['sex'].unique())"
   ]
  },
  {
   "cell_type": "code",
   "execution_count": 10,
   "metadata": {},
   "outputs": [],
   "source": [
    "# only two unique values, so no mispelled values"
   ]
  },
  {
   "cell_type": "code",
   "execution_count": 11,
   "metadata": {},
   "outputs": [
    {
     "name": "stdout",
     "output_type": "stream",
     "text": [
      "(1100, 6)\n"
     ]
    },
    {
     "data": {
      "text/html": [
       "<div>\n",
       "<style scoped>\n",
       "    .dataframe tbody tr th:only-of-type {\n",
       "        vertical-align: middle;\n",
       "    }\n",
       "\n",
       "    .dataframe tbody tr th {\n",
       "        vertical-align: top;\n",
       "    }\n",
       "\n",
       "    .dataframe thead th {\n",
       "        text-align: right;\n",
       "    }\n",
       "</style>\n",
       "<table border=\"1\" class=\"dataframe\">\n",
       "  <thead>\n",
       "    <tr style=\"text-align: right;\">\n",
       "      <th></th>\n",
       "      <th>pclass</th>\n",
       "      <th>survived</th>\n",
       "      <th>sex</th>\n",
       "      <th>age</th>\n",
       "      <th>fare</th>\n",
       "      <th>is_alone</th>\n",
       "    </tr>\n",
       "  </thead>\n",
       "  <tbody>\n",
       "    <tr>\n",
       "      <th>0</th>\n",
       "      <td>1</td>\n",
       "      <td>1</td>\n",
       "      <td>female</td>\n",
       "      <td>29.0000</td>\n",
       "      <td>211.3375</td>\n",
       "      <td>1</td>\n",
       "    </tr>\n",
       "    <tr>\n",
       "      <th>1</th>\n",
       "      <td>1</td>\n",
       "      <td>1</td>\n",
       "      <td>male</td>\n",
       "      <td>0.9167</td>\n",
       "      <td>151.5500</td>\n",
       "      <td>0</td>\n",
       "    </tr>\n",
       "    <tr>\n",
       "      <th>2</th>\n",
       "      <td>1</td>\n",
       "      <td>0</td>\n",
       "      <td>female</td>\n",
       "      <td>2.0000</td>\n",
       "      <td>151.5500</td>\n",
       "      <td>0</td>\n",
       "    </tr>\n",
       "    <tr>\n",
       "      <th>3</th>\n",
       "      <td>1</td>\n",
       "      <td>0</td>\n",
       "      <td>male</td>\n",
       "      <td>30.0000</td>\n",
       "      <td>151.5500</td>\n",
       "      <td>0</td>\n",
       "    </tr>\n",
       "    <tr>\n",
       "      <th>4</th>\n",
       "      <td>1</td>\n",
       "      <td>0</td>\n",
       "      <td>female</td>\n",
       "      <td>25.0000</td>\n",
       "      <td>151.5500</td>\n",
       "      <td>0</td>\n",
       "    </tr>\n",
       "  </tbody>\n",
       "</table>\n",
       "</div>"
      ],
      "text/plain": [
       "   pclass  survived     sex      age      fare  is_alone\n",
       "0       1         1  female  29.0000  211.3375         1\n",
       "1       1         1    male   0.9167  151.5500         0\n",
       "2       1         0  female   2.0000  151.5500         0\n",
       "3       1         0    male  30.0000  151.5500         0\n",
       "4       1         0  female  25.0000  151.5500         0"
      ]
     },
     "execution_count": 11,
     "metadata": {},
     "output_type": "execute_result"
    }
   ],
   "source": [
    "# combining sibsp and parch columns into a single, more meaningful column is_alone\n",
    "# is_alone: 1 if the passenger is travelling alone, 0 otherwise\n",
    "df['is_alone'] = (df['sibsp'] + df['parch'] == 0).astype(int)\n",
    "df = df.drop(['sibsp', 'parch'], axis=1)\n",
    "\n",
    "print(df.shape)\n",
    "df.head()"
   ]
  },
  {
   "cell_type": "markdown",
   "metadata": {},
   "source": [
    "### Univariate Analysis"
   ]
  },
  {
   "cell_type": "code",
   "execution_count": 12,
   "metadata": {},
   "outputs": [
    {
     "data": {
      "text/html": [
       "<div>\n",
       "<style scoped>\n",
       "    .dataframe tbody tr th:only-of-type {\n",
       "        vertical-align: middle;\n",
       "    }\n",
       "\n",
       "    .dataframe tbody tr th {\n",
       "        vertical-align: top;\n",
       "    }\n",
       "\n",
       "    .dataframe thead th {\n",
       "        text-align: right;\n",
       "    }\n",
       "</style>\n",
       "<table border=\"1\" class=\"dataframe\">\n",
       "  <thead>\n",
       "    <tr style=\"text-align: right;\">\n",
       "      <th></th>\n",
       "      <th>pclass</th>\n",
       "      <th>survived</th>\n",
       "      <th>sex</th>\n",
       "      <th>age</th>\n",
       "      <th>fare</th>\n",
       "      <th>is_alone</th>\n",
       "    </tr>\n",
       "  </thead>\n",
       "  <tbody>\n",
       "    <tr>\n",
       "      <th>0</th>\n",
       "      <td>1</td>\n",
       "      <td>1</td>\n",
       "      <td>female</td>\n",
       "      <td>29.0000</td>\n",
       "      <td>211.3375</td>\n",
       "      <td>1</td>\n",
       "    </tr>\n",
       "    <tr>\n",
       "      <th>1</th>\n",
       "      <td>1</td>\n",
       "      <td>1</td>\n",
       "      <td>male</td>\n",
       "      <td>0.9167</td>\n",
       "      <td>151.5500</td>\n",
       "      <td>0</td>\n",
       "    </tr>\n",
       "    <tr>\n",
       "      <th>2</th>\n",
       "      <td>1</td>\n",
       "      <td>0</td>\n",
       "      <td>female</td>\n",
       "      <td>2.0000</td>\n",
       "      <td>151.5500</td>\n",
       "      <td>0</td>\n",
       "    </tr>\n",
       "    <tr>\n",
       "      <th>3</th>\n",
       "      <td>1</td>\n",
       "      <td>0</td>\n",
       "      <td>male</td>\n",
       "      <td>30.0000</td>\n",
       "      <td>151.5500</td>\n",
       "      <td>0</td>\n",
       "    </tr>\n",
       "    <tr>\n",
       "      <th>4</th>\n",
       "      <td>1</td>\n",
       "      <td>0</td>\n",
       "      <td>female</td>\n",
       "      <td>25.0000</td>\n",
       "      <td>151.5500</td>\n",
       "      <td>0</td>\n",
       "    </tr>\n",
       "  </tbody>\n",
       "</table>\n",
       "</div>"
      ],
      "text/plain": [
       "   pclass  survived     sex      age      fare  is_alone\n",
       "0       1         1  female  29.0000  211.3375         1\n",
       "1       1         1    male   0.9167  151.5500         0\n",
       "2       1         0  female   2.0000  151.5500         0\n",
       "3       1         0    male  30.0000  151.5500         0\n",
       "4       1         0  female  25.0000  151.5500         0"
      ]
     },
     "execution_count": 12,
     "metadata": {},
     "output_type": "execute_result"
    }
   ],
   "source": [
    "df.head()"
   ]
  },
  {
   "cell_type": "markdown",
   "metadata": {},
   "source": [
    "##### i. Analyzing Age Distribution"
   ]
  },
  {
   "cell_type": "code",
   "execution_count": 13,
   "metadata": {},
   "outputs": [
    {
     "name": "stdout",
     "output_type": "stream",
     "text": [
      "Mean: 29.8\n",
      "Median: 28.0\n",
      "Standard Deviation: 13.88\n",
      "Skewness: 0.45\n",
      "Kurtosis: 0.44\n"
     ]
    },
    {
     "data": {
      "image/png": "[encoded data removed]",
      "text/plain": [
       "<Figure size 2000x500 with 2 Axes>"
      ]
     },
     "metadata": {},
     "output_type": "display_data"
    }
   ],
   "source": [
    "print('Mean:', df['age'].mean().__round__(2))\n",
    "print('Median:', df['age'].median())\n",
    "print('Standard Deviation:', df['age'].std().__round__(2))\n",
    "print('Skewness:', df['age'].skew().__round__(2))\n",
    "print('Kurtosis:', df['age'].kurt().__round__(2))\n",
    "\n",
    "plt.figure(figsize=(20, 5))\n",
    "\n",
    "plt.subplot(1, 2, 1)\n",
    "sns.histplot(df['age'], kde=True)\n",
    "plt.title('Age Distribution')\n",
    "\n",
    "plt.subplot(1, 2, 2)\n",
    "sns.boxplot(x=df['age'])\n",
    "plt.title('Age Distribution Boxplot')\n",
    "plt.show()"
   ]
  },
  {
   "cell_type": "markdown",
   "metadata": {},
   "source": [
    "##### ii. Analyzing Fare Distribution"
   ]
  },
  {
   "cell_type": "code",
   "execution_count": 14,
   "metadata": {},
   "outputs": [
    {
     "name": "stdout",
     "output_type": "stream",
     "text": [
      "Mean: 36.93\n",
      "Median: 16.1\n",
      "Standard Deviation: 55.31\n",
      "Skewness: 4.07\n",
      "Kurtosis: 23.31\n"
     ]
    },
    {
     "data": {
      "image/png": "[encoded data removed]",
      "text/plain": [
       "<Figure size 2000x500 with 2 Axes>"
      ]
     },
     "metadata": {},
     "output_type": "display_data"
    }
   ],
   "source": [
    "print('Mean:', df['fare'].mean().__round__(2))\n",
    "print('Median:', df['fare'].median())\n",
    "print('Standard Deviation:', df['fare'].std().__round__(2))\n",
    "print('Skewness:', df['fare'].skew().__round__(2))\n",
    "print('Kurtosis:', df['fare'].kurt().__round__(2))\n",
    "\n",
    "plt.figure(figsize=(20, 5))\n",
    "\n",
    "plt.subplot(1, 2, 1)\n",
    "sns.histplot(df['fare'], kde=True)\n",
    "plt.title('Fare Distribution')\n",
    "\n",
    "plt.subplot(1, 2, 2)\n",
    "sns.boxplot(x=df['fare'])\n",
    "plt.title('Fare Distribution Boxplot')\n",
    "plt.show()"
   ]
  },
  {
   "cell_type": "markdown",
   "metadata": {},
   "source": [
    "##### iii. Analyzing Sex Distribution"
   ]
  },
  {
   "cell_type": "code",
   "execution_count": 15,
   "metadata": {},
   "outputs": [
    {
     "name": "stdout",
     "output_type": "stream",
     "text": [
      "Number of male passengers:  428\n",
      "Number of female passengers:  672\n"
     ]
    },
    {
     "data": {
      "image/png": "[encoded data removed]",
      "text/plain": [
       "<Figure size 600x600 with 1 Axes>"
      ]
     },
     "metadata": {},
     "output_type": "display_data"
    }
   ],
   "source": [
    "sex_counts = df['sex'].value_counts()\n",
    "\n",
    "print(\"Number of male passengers: \", sex_counts[1])\n",
    "print(\"Number of female passengers: \", sex_counts[0])\n",
    "\n",
    "plt.figure(figsize=(6, 6))\n",
    "plt.pie(sex_counts,\n",
    "        labels=sex_counts.index,\n",
    "        autopct='%1.1f%%',\n",
    "        startangle=90)\n",
    "plt.title('Distribution of Genders')\n",
    "plt.show()"
   ]
  },
  {
   "cell_type": "markdown",
   "metadata": {},
   "source": [
    "##### iv. Analyzing Passenger Class Distribution"
   ]
  },
  {
   "cell_type": "code",
   "execution_count": 16,
   "metadata": {
    "vscode": {
     "languageId": "ruby"
    }
   },
   "outputs": [
    {
     "name": "stdout",
     "output_type": "stream",
     "text": [
      "Number of passengers in 1st class:  312\n",
      "Number of passengers in 2nd class:  241\n",
      "Number of passengers in 3rd class:  547\n"
     ]
    },
    {
     "data": {
      "image/png": "[encoded data removed]",
      "text/plain": [
       "<Figure size 600x600 with 1 Axes>"
      ]
     },
     "metadata": {},
     "output_type": "display_data"
    }
   ],
   "source": [
    "class_counts = df['pclass'].value_counts()\n",
    "\n",
    "print(\"Number of passengers in 1st class: \", class_counts[1])\n",
    "print(\"Number of passengers in 2nd class: \", class_counts[2])\n",
    "print(\"Number of passengers in 3rd class: \", class_counts[3])\n",
    "\n",
    "plt.figure(figsize=(6, 6))\n",
    "plt.pie(class_counts, labels=class_counts.index, autopct='%1.1f%%', startangle=140)\n",
    "plt.title('Passenger Class Distribution')\n",
    "plt.show()"
   ]
  },
  {
   "cell_type": "markdown",
   "metadata": {},
   "source": [
    "##### v. Analyzing Survival of Passengers"
   ]
  },
  {
   "cell_type": "code",
   "execution_count": 17,
   "metadata": {},
   "outputs": [
    {
     "name": "stdout",
     "output_type": "stream",
     "text": [
      "Number of passengers who survived:  464\n",
      "Number of passengers who did not survive:  636\n"
     ]
    },
    {
     "data": {
      "image/png": "[encoded data removed]",
      "text/plain": [
       "<Figure size 600x600 with 1 Axes>"
      ]
     },
     "metadata": {},
     "output_type": "display_data"
    }
   ],
   "source": [
    "\n",
    "survived = [\"Died\", \"Survived\"]\n",
    "survival_counts = df['survived'].value_counts()\n",
    "\n",
    "survival_counts = df['survived'].value_counts()\n",
    "print(\"Number of passengers who survived: \", survival_counts[1])\n",
    "print(\"Number of passengers who did not survive: \", survival_counts[0])\n",
    "\n",
    "plt.figure(figsize=(6, 6))\n",
    "plt.pie(survival_counts,\n",
    "        labels=[survived[i] for i in survival_counts.index],\n",
    "        autopct='%1.1f%%',\n",
    "        startangle=90)\n",
    "plt.title('Survival Distribution')\n",
    "plt.show()"
   ]
  },
  {
   "cell_type": "markdown",
   "metadata": {},
   "source": [
    "##### vi. Analyzing Wether the Passenger was Alone or Not"
   ]
  },
  {
   "cell_type": "code",
   "execution_count": 18,
   "metadata": {},
   "outputs": [
    {
     "name": "stdout",
     "output_type": "stream",
     "text": [
      "Number of passengers who were not alone:  490\n",
      "Number of passengers who were alone:  610\n"
     ]
    },
    {
     "data": {
      "image/png": "[encoded data removed]",
      "text/plain": [
       "<Figure size 600x600 with 1 Axes>"
      ]
     },
     "metadata": {},
     "output_type": "display_data"
    }
   ],
   "source": [
    "alone = [\"Not Alone\", \"Alone\"]\n",
    "alone_counts = df['is_alone'].value_counts()\n",
    "\n",
    "print(\"Number of passengers who were not alone: \", alone_counts[0])\n",
    "print(\"Number of passengers who were alone: \", alone_counts[1])\n",
    "\n",
    "plt.figure(figsize=(6, 6))\n",
    "plt.pie(alone_counts,\n",
    "        labels=[alone[i] for i in alone_counts.index],\n",
    "        autopct='%1.1f%%',\n",
    "        startangle=90)\n",
    "plt.title('Alone Distribution')\n",
    "plt.show()"
   ]
  },
  {
   "cell_type": "markdown",
   "metadata": {},
   "source": [
    "### Bivariate Analysis"
   ]
  },
  {
   "cell_type": "code",
   "execution_count": null,
   "metadata": {},
   "outputs": [],
   "source": [
    "df.head()"
   ]
  },
  {
   "cell_type": "markdown",
   "metadata": {},
   "source": [
    "##### i. Correlation Between Passenger Class and Survival"
   ]
  },
  {
   "cell_type": "code",
   "execution_count": null,
   "metadata": {},
   "outputs": [],
   "source": [
    "survival_by_class = pd.crosstab(df['pclass'], df['survived'],\n",
    "                                rownames=['Class'],\n",
    "                                colnames=['Survived'],)\n",
    "\n",
    "survival_by_class.columns = ['Died', 'Survived']\n",
    "\n",
    "survival_percentages = {}\n",
    "for pclass in [1, 2, 3]:\n",
    "    class_data = df[df['pclass'] == pclass]\n",
    "    total = len(class_data)\n",
    "    survived = class_data['survived'].sum()\n",
    "    died = total - survived\n",
    "    survival_percentages[pclass] = [died/total*100, survived/total*100]\n",
    "\n",
    "plt.figure(figsize=(12, 6))\n",
    "survival_by_class.plot(kind='bar', stacked=True)\n",
    "plt.title('Survival by Passenger Class', fontsize=16)\n",
    "plt.xlabel('Passenger Class', fontsize=13)\n",
    "plt.ylabel('Count', fontsize=13)\n",
    "plt.xticks([0, 1, 2], ['1st Class', '2nd Class', '3rd Class'], rotation=0)\n",
    "plt.legend(['Died', 'Survived'])\n",
    "\n",
    "for i, (died, survived) in enumerate(zip(survival_by_class['Died'], survival_by_class['Survived'])):\n",
    "    plt.text(i-0.09, died/2, str(died), fontweight='bold')\n",
    "    plt.text(i-0.09, died + survived/2, str(survived), fontweight='bold')\n",
    "\n",
    "plt.tight_layout()\n",
    "plt.show()\n",
    "\n",
    "fig, axes = plt.subplots(1, 3, figsize=(18, 6))\n",
    "classes = [1, 2, 3]\n",
    "class_names = ['1st Class', '2nd Class', '3rd Class']\n",
    "\n",
    "for i, pclass in enumerate(classes):\n",
    "    axes[i].pie(survival_percentages[pclass], \n",
    "                labels=['Died', 'Survived'],\n",
    "                autopct='%1.1f%%',\n",
    "                startangle=90,\n",
    "                explode=(0.05, 0))\n",
    "    axes[i].set_title(f'Survival in {class_names[i]}', fontsize=14)\n",
    "\n",
    "plt.tight_layout()\n",
    "plt.show()"
   ]
  },
  {
   "cell_type": "code",
   "execution_count": null,
   "metadata": {},
   "outputs": [],
   "source": [
    "chi2, p, dof, expected = chi2_contingency(survival_by_class)\n",
    "print(f\"Chi-square value: {chi2:.2f}\")\n",
    "print(f\"p-value: {p:.6f}\")\n",
    "print(f\"Degrees of freedom: {dof}\")\n",
    "print(\"Interpretation: \" + (\"There is a significant relationship between passenger class and survival\" \n",
    "                          if p < 0.05 else \n",
    "                          \"There is no significant relationship between passenger class and survival\"))"
   ]
  },
  {
   "cell_type": "markdown",
   "metadata": {},
   "source": [
    "##### ii. Correlation Between Survival and Sex"
   ]
  },
  {
   "cell_type": "code",
   "execution_count": null,
   "metadata": {},
   "outputs": [],
   "source": [
    "survival_by_sex = pd.crosstab(df['sex'], df['survived'], \n",
    "                             rownames=['Sex'], \n",
    "                             colnames=['Survived'])\n",
    "\n",
    "survival_by_sex.columns = ['Died', 'Survived']\n",
    "\n",
    "survival_percentages = {}\n",
    "for gender in df['sex'].unique():\n",
    "    gender_data = df[df['sex'] == gender]\n",
    "    total = len(gender_data)\n",
    "    survived = sum(gender_data['survived'] == 1)\n",
    "    died = total - survived\n",
    "    survival_percentages[gender] = [died/total*100, survived/total*100]\n",
    "\n",
    "plt.figure(figsize=(12, 6))\n",
    "survival_by_sex.plot(kind='bar', stacked=True)\n",
    "plt.title('Survival Counts by Gender', fontsize=16)\n",
    "plt.xlabel('Gender', fontsize=14)\n",
    "plt.ylabel('Count', fontsize=14)\n",
    "plt.xticks(rotation=0)\n",
    "plt.legend(['Died', 'Survived'])\n",
    "\n",
    "for i in range(len(survival_by_sex.index)):\n",
    "    if 'Died' in survival_by_sex.columns:\n",
    "        died = survival_by_sex['Died'].iloc[i]\n",
    "        plt.text(i-0.07, died/2, str(died), fontweight='bold')\n",
    "    if 'Survived' in survival_by_sex.columns:\n",
    "        survived = survival_by_sex['Survived'].iloc[i]\n",
    "        plt.text(i-0.07, died +survived/2, str(survived), fontweight='bold')\n",
    "\n",
    "plt.tight_layout()\n",
    "plt.show()\n",
    "\n",
    "fig, axes = plt.subplots(1, len(survival_percentages), figsize=(18, 6))\n",
    "class_labels = {1: '1st Class', 2: '2nd Class', 3: '3rd Class'}\n",
    "\n",
    "if len(survival_percentages) == 1:\n",
    "    axes = [axes]\n",
    "\n",
    "for i, (pclass, counts) in enumerate(survival_percentages.items()):\n",
    "    total = sum(counts)\n",
    "    percentages = [count/total*100 for count in counts]\n",
    "    \n",
    "    axes[i].pie(percentages, \n",
    "                labels=['Died', 'Survived'],\n",
    "                autopct='%1.1f%%',\n",
    "                startangle=90,\n",
    "                explode=(0.05, 0))\n",
    "    class_name = class_labels.get(pclass, f'{pclass}')\n",
    "    axes[i].set_title(f'Survival in {class_name}', fontsize=14)\n",
    "\n",
    "plt.tight_layout()\n",
    "plt.show()"
   ]
  },
  {
   "cell_type": "markdown",
   "metadata": {},
   "source": [
    "##### iii. Correlation Between Age and Survival"
   ]
  },
  {
   "cell_type": "code",
   "execution_count": null,
   "metadata": {},
   "outputs": [],
   "source": [
    "bins = [0, 10, 20, 30, 40, 50, 60, 70, 80]\n",
    "labels = [\"0to10\", \"10to20\", \"20to30\", \"30to40\", \"40to50\", \"50to60\", \"60to70\", \"70to80\"]\n",
    "\n",
    "df['age_group'] = pd.cut(df['age'], bins=bins,labels=labels, include_lowest=True)\n",
    "\n",
    "survival_by_age = pd.crosstab(df['age_group'], df['survived'])\n",
    "\n",
    "fig, ax = plt.subplots(figsize=(12, 6))\n",
    "survival_by_age.plot(kind='bar', stacked=True, ax=ax)\n",
    "plt.title('Age vs Survival Analysis')\n",
    "plt.xlabel('Age Groups')\n",
    "plt.ylabel('Count')\n",
    "plt.xticks(rotation=0)\n",
    "plt.legend(title='Survived', labels=['No', 'Yes'])\n",
    "\n",
    "for i, (age_group, row) in enumerate(survival_by_age.iterrows()):\n",
    "    total = row.sum()\n",
    "    if total > 0:\n",
    "        survival_pct = row[1] / total * 100 \n",
    "    else:\n",
    "        survival_pct = 0\n",
    "    ax.text(i, total + 1, f'{survival_pct:.1f}%', ha='center', va='bottom')\n",
    "\n",
    "plt.tight_layout()\n",
    "plt.show()"
   ]
  },
  {
   "cell_type": "markdown",
   "metadata": {},
   "source": [
    "##### iv. Correlation Between Survival and Wether the Passenger is Travelling Alone  "
   ]
  },
  {
   "cell_type": "code",
   "execution_count": null,
   "metadata": {},
   "outputs": [],
   "source": [
    "survival_by_is_alone = pd.crosstab(df['is_alone'], df['survived'],\n",
    "                                   rownames=['Is Alone'],\n",
    "                                   colnames=['Survived'],)\n",
    "\n",
    "survival_by_is_alone.columns = ['Died', 'Survived']\n",
    "\n",
    "survival_percentages = {}\n",
    "for is_alone in df['is_alone'].unique():\n",
    "    alone_data = df[df['is_alone'] == is_alone]\n",
    "    total = len(alone_data)\n",
    "    survived = alone_data['survived'].sum()\n",
    "    died = total - survived\n",
    "    survival_percentages[is_alone] = [died/total*100, survived/total*100]\n",
    "\n",
    "plt.figure(figsize=(12, 6))\n",
    "survival_by_is_alone.plot(kind='bar', stacked=True)\n",
    "plt.title('Survival by Passenger Travelling Alone or Not', fontsize=16)\n",
    "plt.xlabel('Travelling Alone', fontsize=13)\n",
    "plt.ylabel('Count', fontsize=13)\n",
    "plt.xticks([0, 1], ['Not Alone', 'Alone'], rotation=0)\n",
    "plt.legend(['Died', 'Survived'])\n",
    "\n",
    "for i, (died, survived) in enumerate(zip(survival_by_is_alone['Died'], survival_by_is_alone['Survived'])):\n",
    "    plt.text(i-0.09, died/2, str(died), fontweight='bold')\n",
    "    plt.text(i-0.09, died + survived/2, str(survived), fontweight='bold')\n",
    "\n",
    "plt.tight_layout()\n",
    "plt.show()\n",
    "\n",
    "fig, axes = plt.subplots(1, 2, figsize=(18, 6))\n",
    "classes = [0, 1]\n",
    "\n",
    "for i, is_alone in enumerate(classes):\n",
    "    axes[i].pie(survival_percentages[is_alone], \n",
    "                labels=['Died', 'Survived'],\n",
    "                autopct='%1.1f%%',\n",
    "                startangle=90,\n",
    "                explode=(0.05, 0))\n",
    "    axes[i].set_title(f'Survival when {\"Not Alone\" if is_alone == 0 else \"Alone\"}', fontsize=14)\n",
    "\n",
    "plt.tight_layout()\n",
    "plt.show()"
   ]
  },
  {
   "cell_type": "code",
   "execution_count": null,
   "metadata": {},
   "outputs": [],
   "source": []
  }
 ],
 "metadata": {
  "kernelspec": {
   "display_name": "ect107",
   "language": "python",
   "name": "python3"
  },
  "language_info": {
   "codemirror_mode": {
    "name": "ipython",
    "version": 3
   },
   "file_extension": ".py",
   "mimetype": "text/x-python",
   "name": "python",
   "nbconvert_exporter": "python",
   "pygments_lexer": "ipython3",
   "version": "3.13.1"
  }
 },
 "nbformat": 4,
 "nbformat_minor": 2
}
